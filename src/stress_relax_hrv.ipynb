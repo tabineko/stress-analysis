{
 "metadata": {
  "language_info": {
   "codemirror_mode": {
    "name": "ipython",
    "version": 3
   },
   "file_extension": ".py",
   "mimetype": "text/x-python",
   "name": "python",
   "nbconvert_exporter": "python",
   "pygments_lexer": "ipython3",
   "version": "3.8.5"
  },
  "orig_nbformat": 2,
  "kernelspec": {
   "name": "python385jvsc74a57bd0916dbcbb3f70747c44a77c7bcd40155683ae19c65e1c03b4aa3499c5328201f1",
   "display_name": "Python 3.8.5 64-bit"
  },
  "metadata": {
   "interpreter": {
    "hash": "916dbcbb3f70747c44a77c7bcd40155683ae19c65e1c03b4aa3499c5328201f1"
   }
  }
 },
 "nbformat": 4,
 "nbformat_minor": 2,
 "cells": [
  {
   "cell_type": "code",
   "execution_count": null,
   "metadata": {},
   "outputs": [],
   "source": []
  },
  {
   "cell_type": "code",
   "execution_count": 1,
   "metadata": {},
   "outputs": [],
   "source": [
    "import numpy as np\n",
    "import scipy.signal as signal\n",
    "import pandas as pd\n",
    "from wfdb import processing\n",
    "import matplotlib.pyplot as plt\n",
    "%matplotlib inline\n",
    "import sys\n",
    "import os"
   ]
  },
  {
   "cell_type": "code",
   "execution_count": 2,
   "metadata": {},
   "outputs": [],
   "source": [
    "class ECGSignal():\n",
    "    def __init__(self, ecg_signal, Fs=1000, lowcut=0.3, highcut=60, resample_fs=128):\n",
    "        self.ecg_signal = ecg_signal\n",
    "        self.Fs = Fs\n",
    "        self.lowcut = lowcut\n",
    "        self.highcut = highcut\n",
    "        self.resample_fs = resample_fs\n",
    "\n",
    "        self.filtered_ecg_signal = self.apply_filter_to_signal()\n",
    "        self.resampled_ecg_signal = signal.resample(self.filtered_ecg_signal, (len(self.ecg_signal) // self.Fs) * self.resample_fs)\n",
    "\n",
    "        self.conf = processing.XQRS.Conf(ref_period=0.4)\n",
    "        self.xqrs = processing.XQRS(sig=ecg_signal, fs=Fs, conf=self.conf)\n",
    "        self.xqrs.detect(learn=False)\n",
    "        peaks = self.xqrs.qrs_inds / Fs\n",
    "        self.RRI = np.diff(peaks)\n",
    "\n",
    "    def get_rri(self):\n",
    "        return self.RRI\n",
    "\n",
    "    def butter_bandpass(self, order=4):\n",
    "    # to gain paramaters of butterworth bandpass filter\n",
    "        nyq = 0.5 * self.Fs\n",
    "        low = self.lowcut / nyq\n",
    "        high = self.highcut / nyq\n",
    "        b, a = signal.butter(order, [low, high], btype='band')\n",
    "        return b, a\n",
    "\n",
    "    def apply_filter_to_signal(self, order=4):\n",
    "    # apply butterworth bandpass filter to the signal\n",
    "        b, a = self.butter_bandpass(order)\n",
    "        filtered = signal.filtfilt(b, a, self.ecg_signal)\n",
    "        return filtered"
   ]
  },
  {
   "cell_type": "code",
   "execution_count": null,
   "metadata": {},
   "outputs": [],
   "source": []
  }
 ]
}