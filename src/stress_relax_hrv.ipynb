{
 "metadata": {
  "language_info": {
   "codemirror_mode": {
    "name": "ipython",
    "version": 3
   },
   "file_extension": ".py",
   "mimetype": "text/x-python",
   "name": "python",
   "nbconvert_exporter": "python",
   "pygments_lexer": "ipython3",
   "version": "3.8.5"
  },
  "orig_nbformat": 2,
  "kernelspec": {
   "name": "python385jvsc74a57bd0916dbcbb3f70747c44a77c7bcd40155683ae19c65e1c03b4aa3499c5328201f1",
   "display_name": "Python 3.8.5 64-bit"
  },
  "metadata": {
   "interpreter": {
    "hash": "916dbcbb3f70747c44a77c7bcd40155683ae19c65e1c03b4aa3499c5328201f1"
   }
  }
 },
 "nbformat": 4,
 "nbformat_minor": 2,
 "cells": [
  {
   "cell_type": "code",
   "execution_count": null,
   "metadata": {},
   "outputs": [],
   "source": []
  },
  {
   "cell_type": "code",
   "execution_count": 1,
   "metadata": {},
   "outputs": [],
   "source": [
    "import numpy as np\n",
    "import scipy.signal as signal\n",
    "import pandas as pd\n",
    "from wfdb import processing\n",
    "import matplotlib.pyplot as plt\n",
    "%matplotlib inline\n",
    "import sys\n",
    "import os\n",
    "from hrvanalysis import remove_outliers, remove_ectopic_beats, interpolate_nan_values"
   ]
  },
  {
   "cell_type": "code",
   "execution_count": 2,
   "metadata": {},
   "outputs": [],
   "source": [
    "class ECGSignal():\n",
    "    def __init__(self, ecg_signal, Fs=1000, lowcut=0.3, highcut=60, resample_fs=128):\n",
    "        self.ecg_signal = ecg_signal\n",
    "        self.Fs = Fs\n",
    "        self.lowcut = lowcut\n",
    "        self.highcut = highcut\n",
    "        self.resample_fs = resample_fs\n",
    "\n",
    "        self.filtered_ecg_signal = self.apply_filter_to_signal()\n",
    "        self.resampled_ecg_signal = signal.resample(self.filtered_ecg_signal, (len(self.ecg_signal) // self.Fs) * self.resample_fs)\n",
    "\n",
    "        self.conf = processing.XQRS.Conf(ref_period=0.4)\n",
    "        self.xqrs = processing.XQRS(sig=ecg_signal, fs=Fs, conf=self.conf)\n",
    "        self.xqrs.detect(learn=False)\n",
    "        peaks = self.xqrs.qrs_inds / Fs\n",
    "        self.RRI = np.diff(peaks)\n",
    "\n",
    "    def get_rri(self):\n",
    "        return self.RRI\n",
    "\n",
    "    def butter_bandpass(self, order=4):\n",
    "    # to gain paramaters of butterworth bandpass filter\n",
    "        nyq = 0.5 * self.Fs\n",
    "        low = self.lowcut / nyq\n",
    "        high = self.highcut / nyq\n",
    "        b, a = signal.butter(order, [low, high], btype='band')\n",
    "        return b, a\n",
    "\n",
    "    def apply_filter_to_signal(self, order=4):\n",
    "    # apply butterworth bandpass filter to the signal\n",
    "        b, a = self.butter_bandpass(order)\n",
    "        filtered = signal.filtfilt(b, a, self.ecg_signal)\n",
    "        return filtered"
   ]
  },
  {
   "cell_type": "code",
   "execution_count": null,
   "metadata": {},
   "outputs": [],
   "source": [
    "def csv_to_signal(filepath, header=None, skiprows=13):\n",
    "    ecg_df = pd.read_table(filepath, header=header, skiprows=skiprows)[0]\n",
    "    ecg_signal = ecg_df.values\n",
    "\n",
    "    return ecg_signal"
   ]
  },
  {
   "cell_type": "code",
   "execution_count": null,
   "metadata": {},
   "outputs": [],
   "source": [
    "def preprocess_hrvanalysis(rri, low_rri=300, high_rri=2000, interpolation_method=\"linear\", remove_method=\"malik\"):\n",
    "    rri_int = list(map(int, rri * 1000))\n",
    "\n",
    "    # This remove outliers from signal\n",
    "    rr_intervals_without_outliers = remove_outliers(rr_intervals=rri_int,                                                     low_rri=low_rri, high_rri=high_rri)\n",
    "\n",
    "    # This replace outliers nan values with linear interpolation\n",
    "    interpolated_rr_intervals = interpolate_nan_values(rr_intervals=rr_intervals_without_outliers, interpolation_method=interpolation_method)\n",
    "\n",
    "    # This remove ectopic beats from signal\n",
    "    nn_intervals_list = remove_ectopic_beats(rr_intervals=interpolated_rr_intervals, method=remove_method)\n",
    "    # This replace ectopic beats nan values with linear interpolation\n",
    "    interpolated_nn_intervals = interpolate_nan_values(rr_intervals=nn_intervals_list)\n",
    "\n",
    "    return rri_int, interpolated_rr_intervals, nn_intervals_list, interpolated_rr_intervals"
   ]
  },
  {
   "cell_type": "code",
   "execution_count": null,
   "metadata": {},
   "outputs": [],
   "source": [
    "def calc_hrv_features(nn_intervals):\n",
    "    time_domain_features = get_time_domain_features(nn_intervals)\n",
    "    frequency_features = get_frequency_domain_features(nn_intervals)\n",
    "\n",
    "    return time_domain_features, frequency_features)"
   ]
  },
  {
   "cell_type": "code",
   "execution_count": null,
   "metadata": {},
   "outputs": [],
   "source": [
    "filepath = '../data/WAV_00000010.txt'\n",
    "\n",
    "Fs = 1000  # [Hz]\n",
    "\n",
    "ecg_signal = ECGSignal(csv_to_signal(filepath))\n",
    "rri = ecg_signal.get_rri()\n",
    "\n",
    "rri_int, interpolated_rr_intervals, nn_intervals_list, interpolated_rr_intervals = preprocess_hrvanalysis(rri)\n",
    "\n",
    "\n",
    "window = 50 * 1000\n",
    "step = 10 * 1000\n",
    "window_num = (sum(rri_int) - window) // step + 1\n",
    "for w in range(window_num):\n",
    "    start = w * step\n",
    "    end = window + w * step\n",
    "    windowed_rri = nn_intervals_list[]"
   ]
  }
 ]
}